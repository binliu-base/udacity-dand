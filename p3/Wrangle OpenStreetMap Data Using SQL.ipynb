{
 "cells": [
  {
   "cell_type": "markdown",
   "metadata": {},
   "source": [
    "####  Map Area :   Shenzhen, Guangdong ,China\n",
    "\n",
    "[Dataset](https://mapzen.com/data/metro-extracts/metro/shenzhen_china/) This extract actually contains information for the Shenzhen City."
   ]
  },
  {
   "cell_type": "markdown",
   "metadata": {},
   "source": [
    "## 1. Problems Encountered in the Map\n",
    "\n",
    "After initially downloading a small sample size of the Shenzhen City and running it with a provisional data.py file, I found the three main problems in the dataset, which I will discuss in the following order:\n",
    "\n",
    "Overabbreviated street type names (\"盐梅路 Yanmei Rd\") \n",
    "\n",
    "Pinyin spelling of Chinese words (\"南山大道 Nanshan Dadao\") \n",
    "\n",
    "Inconsistent city name (\"深圳市\",\"广东省深圳市\") "
   ]
  },
  {
   "cell_type": "markdown",
   "metadata": {},
   "source": [
    "### Overabbreviated Street Names"
   ]
  },
  {
   "cell_type": "markdown",
   "metadata": {},
   "source": [
    "After searching the street key type \"addr:street\" on the sample osm file with grep command, I found many street name has overabbreviated.\n",
    "\n",
    "grep command:  \n",
    "grep -i  \"addr:street\" sample.osm\n",
    "\n",
    "searching result:\n",
    "<tag k=\"addr:street\" v=\"罗芳路 Luofang Rd\" />\n",
    "<tag k=\"addr:street\" v=\"文锦中路 Wenjin Middle Rd\" />\n",
    "<tag k=\"addr:street\" v=\"香梅路 Xiangmei Rd\" />\n",
    "......\n",
    "\n",
    "I solved the overabbreviated problem by first use the regular expression to filter out the street type, Then using a mapping dictionary (street_abbrev_mapping in config.py) to map the abbreviated name to countpart full name\n",
    "\n",
    "street_abbrev_mapping  = { \n",
    "            \"St\": \"Street\",\n",
    "            \"St.\": \"Street\",\n",
    "            \"str\": \"Street\",\n",
    "            \"Ave\": \"Avenue\",\n",
    "            \"Ave.\":\"Avenue\",\n",
    "            \"AV\": \"Avenue\",            \n",
    "            \"Rd.\":  \"Road\",\n",
    "            \"Rd\":  \"Road\",\n",
    "            \"RD\": \"Road\",            \n",
    "            \"PKWY\": \"Parkway\",\n",
    "            \"Pkwy\": \"Parkway\",            \n",
    "            \"Blvd\": \"Boulevard\",\n",
    "            \"Blvd.\": \"Boulevard\",\n",
    "            \"Boulavard\": \"Boulevard\",\n",
    "            \"Pl\": \"Place\",\n",
    "            \"Pl.\": \"Place\",\n",
    "            \"Ln\": \"Lane\",\n",
    "            \"Ln.\": \"Lane\",\n",
    "            \"Dr\": \"Drive\",\n",
    "            \"Dr.\": \"Drive\"\n",
    "            }"
   ]
  },
  {
   "cell_type": "code",
   "execution_count": 2,
   "metadata": {
    "scrolled": true
   },
   "outputs": [
    {
     "name": "stdout",
     "output_type": "stream",
     "text": [
      "audit.py: auditing the tag street for overabbreviated problem ...\n",
      "景田北一街 Jingtian North 1st St => 景田北一街 Jingtian North 1st Street\n",
      "正云路 Zhengyun Rd => 正云路 Zhengyun Road\n"
     ]
    }
   ],
   "source": [
    "%run audit.py shenzhen_sample.osm -t street -p overabbreviated"
   ]
  },
  {
   "cell_type": "markdown",
   "metadata": {},
   "source": [
    "### Pinyin spelling of Chinese Words"
   ]
  },
  {
   "cell_type": "markdown",
   "metadata": {},
   "source": [
    "Pinyin spelling of chinese words is an interesting case. Often times, the chinese pinyin of a word is written in the english street name. For example \"南山大道 Nanshan Dadao\" instead of \"南山大道 Nanshan Avenue \",  both street name \"Nanshan\" and street type \"Dadao\" are using pinyin word.(see http://wiki.openstreetmap.org/wiki/WikiProject_China#Generics_in_Chinese).\n",
    "\n",
    "Because pinyin spelling street name is a common custom. So I not deal with street name and instead focus on fix pinyin spelling street type problem. I solved the problem by using a mapping dictionay (pinyin_mapping in config.py) to map pinyin word to countpart english names.\n",
    "\n",
    "pinyin_mapping = {\n",
    "    \"Dadao\":\"Avenue\", \n",
    "    \"Jie\":\"Street\",\n",
    "    \"Dajie\":\"Main Street\",\n",
    "    \"Lu\":\"Road\",    \n",
    "    \"Dayuan\":\"Courtyard\",\n",
    "    \"Dong\":\"East\",\n",
    "    \"Xi\":\"West\",\n",
    "    \"Nan\":\"South\",\n",
    "    \"Bei\":\"North\",\n",
    "    \"Zhong\":\"Middle\",\n",
    "    \"Qiao\":\"Bridge\",\n",
    "    u\"Gaoxin S.\":u\"高新区南\",\n",
    "    \"S.\":\"South\",\n",
    "    \"N.\":\"North\",\n",
    "    u\"Houhaibin\":u\"华强北路 Huangqiang North Road\"\n",
    "}\n"
   ]
  },
  {
   "cell_type": "code",
   "execution_count": 3,
   "metadata": {},
   "outputs": [
    {
     "name": "stdout",
     "output_type": "stream",
     "text": [
      "audit.py: auditing the tag street for pinyin problem ...\n",
      "KeYuan Lu => KeYuan Road\n",
      "桃园路 Taoyuan Lu => 桃园路 Taoyuan Road\n"
     ]
    }
   ],
   "source": [
    "%run audit.py shenzhen_sample.osm -t street -p pinyin"
   ]
  },
  {
   "cell_type": "markdown",
   "metadata": {},
   "source": [
    "### Inconsist city name"
   ]
  },
  {
   "cell_type": "markdown",
   "metadata": {},
   "source": [
    "City name (addr:city) is inconsist, sometime is chinese (\"深圳市\",\"广东省深圳市\"), sometime is pinyin word (“Shenzhen\"\"). \n",
    "I solved the problem by using a mapping dictionay to map pinyin word to a unified name(\"深圳 Shenzhen\")."
   ]
  },
  {
   "cell_type": "code",
   "execution_count": 6,
   "metadata": {},
   "outputs": [
    {
     "name": "stdout",
     "output_type": "stream",
     "text": [
      "audit.py: auditing the tag city for Inconsistentname problem ...\n",
      "深圳市南山区 Nanshan District => 深圳 Shenzhen\n",
      "深圳市 => 深圳 Shenzhen\n",
      "广东省深圳市 => 深圳 Shenzhen\n",
      "Shenzhen City => 深圳 Shenzhen\n"
     ]
    }
   ],
   "source": [
    "%run audit.py shenzhen_sample.osm -t city -p Inconsistentname"
   ]
  },
  {
   "cell_type": "markdown",
   "metadata": {
    "collapsed": true
   },
   "source": [
    "## 2.  Data Overview"
   ]
  },
  {
   "cell_type": "markdown",
   "metadata": {},
   "source": [
    "### File sizes"
   ]
  },
  {
   "cell_type": "markdown",
   "metadata": {},
   "source": [
    "shenzhen_sample.osm  70 MB     \n",
    "shenzhen.db     37M     \n",
    "nodes.csv       28M    \n",
    "nodes_tags.csv  905K    \n",
    "ways.csv        2.2M    \n",
    "ways_nodes.cv   9.7M    \n",
    "ways_tags.csv   3.1M    "
   ]
  },
  {
   "cell_type": "markdown",
   "metadata": {},
   "source": [
    "### Number of nodes"
   ]
  },
  {
   "cell_type": "markdown",
   "metadata": {},
   "source": [
    "sqlite> select count(*) from Nodes;\n",
    "340639"
   ]
  },
  {
   "cell_type": "markdown",
   "metadata": {},
   "source": [
    "### Number of ways"
   ]
  },
  {
   "cell_type": "markdown",
   "metadata": {},
   "source": [
    "sqlite> select count(*) from nodesTags ;    \n",
    "47530"
   ]
  },
  {
   "cell_type": "markdown",
   "metadata": {},
   "source": [
    "### Number of unique users"
   ]
  },
  {
   "cell_type": "markdown",
   "metadata": {},
   "source": [
    "sqlite> SELECT COUNT(DISTINCT(e.uid))\n",
    "   ...> FROM (SELECT uid FROM nodes UNION ALL SELECT uid FROM ways) e;\n",
    "698"
   ]
  },
  {
   "cell_type": "markdown",
   "metadata": {},
   "source": [
    "### Top 10 contributing users"
   ]
  },
  {
   "cell_type": "markdown",
   "metadata": {},
   "source": [
    "sqlite> SELECT e.user, COUNT(*) as num\n",
    "   ...> FROM (SELECT user FROM nodes UNION ALL SELECT user FROM ways) e\n",
    "   ...> GROUP BY e.user\n",
    "   ...> ORDER BY num DESC\n",
    "   ...> LIMIT 10;\n",
    "MarsmanRom,88223\n",
    "hlaw,61685\n",
    "HelioFelix,20206\n",
    "\"Philip C\",12846\n",
    "samho1234567,11019\n",
    "a1579,10673\n",
    "jc86035,7249\n",
    "ch40s,7173\n",
    "eversone,6765\n",
    "ssheldonss,6487"
   ]
  },
  {
   "cell_type": "markdown",
   "metadata": {},
   "source": [
    "## 3. Additional Data Exploration"
   ]
  },
  {
   "cell_type": "markdown",
   "metadata": {},
   "source": [
    "### Observe Tags"
   ]
  },
  {
   "cell_type": "markdown",
   "metadata": {},
   "source": [
    "####  Connect to the osm database, Run a query to get  type and number of occurrences for all tags "
   ]
  },
  {
   "cell_type": "code",
   "execution_count": 7,
   "metadata": {
    "collapsed": true
   },
   "outputs": [],
   "source": [
    "import sqlite3\n",
    "\n",
    "# Fetch tag records from shenzhen.db\n",
    "db = sqlite3.connect(\"shenzhen.db\")\n",
    "c = db.cursor()\n",
    "QUERY = '''\n",
    "select key, count(*) as count \n",
    "from (select * from nodesTags union all select * from waysTags) tags \n",
    "where key is not Null \n",
    "group by key \n",
    "order by count desc; \n",
    "'''\n",
    "c.execute(QUERY)\n",
    "rows = c.fetchall()\n",
    "\n",
    "import pandas as pd    \n",
    "df = pd.DataFrame(rows)\n",
    "\n",
    "db.close()"
   ]
  },
  {
   "cell_type": "markdown",
   "metadata": {},
   "source": [
    "####  Frequency of Tag"
   ]
  },
  {
   "cell_type": "code",
   "execution_count": 8,
   "metadata": {},
   "outputs": [
    {
     "data": {
      "text/plain": [
       "<Container object of 388 artists>"
      ]
     },
     "execution_count": 8,
     "metadata": {},
     "output_type": "execute_result"
    },
    {
     "data": {
      "image/png": "[encoded data removed]",
      "text/plain": [
       "<matplotlib.figure.Figure at 0x6365ba8>"
      ]
     },
     "metadata": {},
     "output_type": "display_data"
    }
   ],
   "source": [
    "import matplotlib.pyplot as plt\n",
    "import numpy as np\n",
    "%matplotlib inline\n",
    "\n",
    "tag_ranks = df[0]\n",
    "tag_counts= df[1]\n",
    "\n",
    "N = len(tag_counts)\n",
    "tag_ranks = range(N)\n",
    "width = 1/1.5\n",
    "\n",
    "plt.xlabel(\"Sort tags by count, descending\")\n",
    "plt.ylabel(\"Count\")\n",
    "plt.bar(tag_ranks, tag_counts, width, color=\"blue\")"
   ]
  },
  {
   "cell_type": "markdown",
   "metadata": {},
   "source": [
    "#### Top 10 tags with the highest frequency"
   ]
  },
  {
   "cell_type": "code",
   "execution_count": 9,
   "metadata": {},
   "outputs": [
    {
     "name": "stdout",
     "output_type": "stream",
     "text": [
      "  key of tags  count\n",
      "0     highway  23632\n",
      "1        name  10358\n",
      "2    building   7665\n",
      "3          en   6953\n",
      "4      oneway   6482\n",
      "5          zh   6329\n",
      "6       power   2961\n",
      "7       layer   2879\n",
      "8      bridge   2398\n",
      "9      source   2104\n"
     ]
    }
   ],
   "source": [
    "df.columns = ['key of tags' ,'count']\n",
    "print df[0:10]"
   ]
  },
  {
   "cell_type": "markdown",
   "metadata": {},
   "source": [
    "### Amenities By Count"
   ]
  },
  {
   "cell_type": "markdown",
   "metadata": {},
   "source": [
    "sqlite> SELECT value, COUNT(*) AS num\n",
    "   ...> FROM nodesTags\n",
    "   ...> WHERE key = 'amenity'\n",
    "   ...> GROUP BY value\n",
    "   ...> ORDER BY num DESC;\n",
    "toilets,198\n",
    "restaurant,133\n",
    "shelter,100\n",
    "post_box,87\n",
    "bank,69\n",
    "bus_station,56\n",
    "fuel,50\n",
    "fast_food,48\n",
    "bicycle_parking,42\n",
    "cafe,39"
   ]
  },
  {
   "cell_type": "markdown",
   "metadata": {},
   "source": [
    "### Most Popular Cuisines "
   ]
  },
  {
   "cell_type": "markdown",
   "metadata": {},
   "source": [
    "sqlite> SELECT value, COUNT(*) AS num\n",
    "   ...> FROM nodesTags\n",
    "   ...> WHERE key = 'cuisine'\n",
    "   ...> GROUP BY value\n",
    "   ...> ORDER BY num DESC;\n",
    "chinese,31\n",
    "burger,12\n",
    "chinese;fast_food,4\n",
    "japanese,4\n",
    "chicken,3\n",
    "regional,3\n",
    "vegetarian,3\n",
    "cantonese,2\n",
    "local,2\n",
    "mexican,2\n",
    "noodle,2\n",
    "Dumplings,1\n",
    "coffee_shop,1"
   ]
  },
  {
   "cell_type": "markdown",
   "metadata": {
    "collapsed": true
   },
   "source": [
    "## 4. Conclusion"
   ]
  },
  {
   "cell_type": "markdown",
   "metadata": {},
   "source": [
    "In this project, data cleaning is far from enough.  I only focused on auditing, cleaning the addr:street and addr:city tags.\n",
    "For example name and building fields contains many records from other city  other than the expected '深圳 Shenzhen'. The audit and fix functions are not applied to clean the data before writing into csv files. I can imagine the challenge in using these approaches to other tags. If the user generated data have standards to follow and auditing tools to improve accuracy and consistancy, the OSM data could be put into broad application. "
   ]
  }
 ],
 "metadata": {
  "kernelspec": {
   "display_name": "Python 2",
   "language": "python",
   "name": "python2"
  },
  "language_info": {
   "codemirror_mode": {
    "name": "ipython",
    "version": 2
   },
   "file_extension": ".py",
   "mimetype": "text/x-python",
   "name": "python",
   "nbconvert_exporter": "python",
   "pygments_lexer": "ipython2",
   "version": "2.7.13"
  }
 },
 "nbformat": 4,
 "nbformat_minor": 2
}
